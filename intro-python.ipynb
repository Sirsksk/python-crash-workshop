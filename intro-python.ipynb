{
 "cells": [
  {
   "cell_type": "markdown",
   "metadata": {},
   "source": [
    "# Introducción a Python"
   ]
  },
  {
   "cell_type": "markdown",
   "metadata": {},
   "source": [
    "## Sintaxis y variables"
   ]
  },
  {
   "cell_type": "markdown",
   "metadata": {},
   "source": [
    "¿Qué es Python?\n",
    "- Es un lenguaje de programación interpretado.\n",
    "- Es un lenguaje orientado a objetos.\n",
    "- Es multiplataforma.\n",
    "- De tipado dinámico (no es necesario declarar las variables antes de usarlas, o declarar su tipo).\n",
    "\n",
    "Python es conocido por su syntaxis clara y limpia que usa sangrías (espacios o tabuladores) en lugar de llaves para dar estructura al código.\n",
    "\n",
    "```python\n",
    "x = 1\n",
    "\n",
    "if x == 1:\n",
    "    # 4 espacios (1 tab)\n",
    "    print(\"x es 1\")\n",
    "\n",
    "print('fin')\n",
    "```\n",
    "\n",
    "En python, cada variable es un objeto."
   ]
  },
  {
   "cell_type": "markdown",
   "metadata": {},
   "source": [
    "## Mejores prácticas Python\n",
    "\n",
    "### Nombres de variables\n",
    "\n",
    "Variables, funciones, métodos, paquetes, módulos\n",
    "```python \n",
    "minusculas_con_guion_bajo \n",
    "```\n",
    "Clases y Excepciones\n",
    "``` \n",
    "PalabrasCapitales\n",
    "```\n",
    "Métodos protegidos y funciones internas\n",
    "``` \n",
    "_un_guion_bajo_inicial(self, ...) \n",
    "```\n",
    "Métodos Privados\n",
    "```\n",
    "__doble_guion_bajo_inicial(self, ...)\n",
    "```\n",
    "Constantes\n",
    "```\n",
    "TODO_MAYUSCULAS_CON_GUION_BAJO\n",
    "```\n",
    "\n",
    "\n",
    "### Reverse notation\n",
    "\n",
    "elementos_activos = ...\n",
    "elementos_inactivos = ...\n",
    "elementos_finalizados = ...\n",
    "\n",
    "1. Evitar comentarios innecesarios.\n",
    "2. Evitar gets & sets"
   ]
  },
  {
   "cell_type": "markdown",
   "metadata": {},
   "source": [
    "## Tipos de datos y operadores"
   ]
  },
  {
   "cell_type": "markdown",
   "metadata": {},
   "source": [
    "### Numéricos"
   ]
  },
  {
   "cell_type": "markdown",
   "metadata": {},
   "source": [
    "Como en otros lenguajes, en python existen diferentes tipos de datos que podemos usar para representar números (enteros, flotantes y complejos)"
   ]
  },
  {
   "cell_type": "code",
   "execution_count": 7,
   "metadata": {},
   "outputs": [
    {
     "data": {
      "text/plain": [
       "int"
      ]
     },
     "execution_count": 7,
     "metadata": {},
     "output_type": "execute_result"
    }
   ],
   "source": [
    "type(5)"
   ]
  },
  {
   "cell_type": "code",
   "execution_count": 8,
   "metadata": {},
   "outputs": [
    {
     "data": {
      "text/plain": [
       "float"
      ]
     },
     "execution_count": 8,
     "metadata": {},
     "output_type": "execute_result"
    }
   ],
   "source": [
    "type(2.1)"
   ]
  },
  {
   "cell_type": "code",
   "execution_count": 9,
   "metadata": {
    "scrolled": true
   },
   "outputs": [
    {
     "data": {
      "text/plain": [
       "complex"
      ]
     },
     "execution_count": 9,
     "metadata": {},
     "output_type": "execute_result"
    }
   ],
   "source": [
    "type(1+2j)"
   ]
  },
  {
   "cell_type": "markdown",
   "metadata": {},
   "source": [
    "***Operaciones:***"
   ]
  },
  {
   "cell_type": "code",
   "execution_count": 2,
   "metadata": {},
   "outputs": [
    {
     "data": {
      "text/plain": [
       "10.1"
      ]
     },
     "execution_count": 2,
     "metadata": {},
     "output_type": "execute_result"
    }
   ],
   "source": [
    "# Sumas(+) y restas(-)\n",
    "5 + 3.1 + 2"
   ]
  },
  {
   "cell_type": "code",
   "execution_count": 12,
   "metadata": {},
   "outputs": [
    {
     "data": {
      "text/plain": [
       "(5+2j)"
      ]
     },
     "execution_count": 12,
     "metadata": {},
     "output_type": "execute_result"
    }
   ],
   "source": [
    "# Multiplicacione (*) y divisiones(/)\n",
    "5 * 1+2j"
   ]
  },
  {
   "cell_type": "code",
   "execution_count": 3,
   "metadata": {},
   "outputs": [
    {
     "data": {
      "text/plain": [
       "25"
      ]
     },
     "execution_count": 3,
     "metadata": {},
     "output_type": "execute_result"
    }
   ],
   "source": [
    "# Exponenciales\n",
    "5 ** 2"
   ]
  },
  {
   "cell_type": "code",
   "execution_count": 14,
   "metadata": {},
   "outputs": [
    {
     "data": {
      "text/plain": [
       "7"
      ]
     },
     "execution_count": 14,
     "metadata": {},
     "output_type": "execute_result"
    }
   ],
   "source": [
    "# Floor Division\n",
    "15 // 2      "
   ]
  },
  {
   "cell_type": "code",
   "execution_count": 2,
   "metadata": {},
   "outputs": [
    {
     "data": {
      "text/plain": [
       "1"
      ]
     },
     "execution_count": 2,
     "metadata": {},
     "output_type": "execute_result"
    }
   ],
   "source": [
    "2 / 2"
   ]
  },
  {
   "cell_type": "code",
   "execution_count": 92,
   "metadata": {
    "scrolled": true
   },
   "outputs": [
    {
     "data": {
      "text/plain": [
       "8"
      ]
     },
     "execution_count": 92,
     "metadata": {},
     "output_type": "execute_result"
    }
   ],
   "source": [
    "# Modulus\n",
    "1008 % 10   "
   ]
  },
  {
   "cell_type": "markdown",
   "metadata": {},
   "source": [
    "### Cadenas"
   ]
  },
  {
   "cell_type": "markdown",
   "metadata": {},
   "source": [
    "Para declarar cadenas en python podemos usar comillas sencillas (') o dobles (\")"
   ]
  },
  {
   "cell_type": "code",
   "execution_count": 3,
   "metadata": {},
   "outputs": [
    {
     "data": {
      "text/plain": [
       "'Hola'"
      ]
     },
     "execution_count": 3,
     "metadata": {},
     "output_type": "execute_result"
    }
   ],
   "source": [
    "'Hola'"
   ]
  },
  {
   "cell_type": "code",
   "execution_count": 3,
   "metadata": {},
   "outputs": [
    {
     "data": {
      "text/plain": [
       "'Hola'"
      ]
     },
     "execution_count": 3,
     "metadata": {},
     "output_type": "execute_result"
    }
   ],
   "source": [
    "\"Hola\""
   ]
  },
  {
   "cell_type": "code",
   "execution_count": 2,
   "metadata": {},
   "outputs": [
    {
     "data": {
      "text/plain": [
       "str"
      ]
     },
     "execution_count": 2,
     "metadata": {},
     "output_type": "execute_result"
    }
   ],
   "source": [
    "type('Hola')"
   ]
  },
  {
   "cell_type": "markdown",
   "metadata": {},
   "source": [
    "Por default, cuando introducimos una cadena, Python escapa caracteres especiales usando una diagonal invertida (\\). \n",
    "\n",
    "Esto pudiera llegar a causar problemas si el texto que introducimos llevara caracteres que pudieran ser interpretados como especiales, por ejemplo: \"\\t\" que sería sustituido por un tabulador o \"\\n\" que sería sustituido por una nueva línea."
   ]
  },
  {
   "cell_type": "code",
   "execution_count": 4,
   "metadata": {},
   "outputs": [
    {
     "name": "stdout",
     "output_type": "stream",
     "text": [
      "C:\tmp\n",
      "endencias_enero.txt\n"
     ]
    }
   ],
   "source": [
    "print('C:\\tmp\\nendencias_enero.txt')"
   ]
  },
  {
   "cell_type": "markdown",
   "metadata": {},
   "source": [
    "En estos casos deberemos de declarar la cadena como \"raw\", usando una r antes de la comilla inicial, para que python la tome literalmente como fue declarada."
   ]
  },
  {
   "cell_type": "code",
   "execution_count": 5,
   "metadata": {},
   "outputs": [
    {
     "name": "stdout",
     "output_type": "stream",
     "text": [
      "C:\\tmp\\tendencias_enero.txt\n",
      "C:\\tmp\\tendencias_enero.txt\n"
     ]
    }
   ],
   "source": [
    "print(r'C:\\tmp\\tendencias_enero.txt')\n",
    "\n",
    "cadena_de_archivo = 'C:\\tmp\\tendencias_enero.txt'\n",
    "# Para variables\n",
    "print(repr(cadena_de_archivo).replace(\"'\",\"\"))"
   ]
  },
  {
   "cell_type": "markdown",
   "metadata": {},
   "source": [
    "***Operaciones:***"
   ]
  },
  {
   "cell_type": "code",
   "execution_count": 6,
   "metadata": {},
   "outputs": [
    {
     "name": "stdout",
     "output_type": "stream",
     "text": [
      "Hola Jaime\n"
     ]
    }
   ],
   "source": [
    "# Suma de cadenas\n",
    "print('Hola ' + 'Jaime')"
   ]
  },
  {
   "cell_type": "code",
   "execution_count": 9,
   "metadata": {},
   "outputs": [
    {
     "name": "stdout",
     "output_type": "stream",
     "text": [
      "Anita lava la tinaAnita lava la tinaAnita lava la tinaAnita lava la tinaAnita lava la tinaAnita lava la tinaAnita lava la tinaAnita lava la tinaAnita lava la tinaAnita lava la tinaAnita lava la tinaAnita lava la tinaAnita lava la tinaAnita lava la tinaAnita lava la tinaAnita lava la tinaAnita lava la tinaAnita lava la tinaAnita lava la tinaAnita lava la tina\n"
     ]
    }
   ],
   "source": [
    "# Multiplicación de cadenas\n",
    "print('Anita lava la tina' * 20 )"
   ]
  },
  {
   "cell_type": "markdown",
   "metadata": {},
   "source": [
    "***El Método format***"
   ]
  },
  {
   "cell_type": "code",
   "execution_count": 11,
   "metadata": {},
   "outputs": [
    {
     "name": "stdout",
     "output_type": "stream",
     "text": [
      "Él es Mario y vive en Monterrey\n",
      "Él es Jorge y vive en Juárez\n"
     ]
    }
   ],
   "source": [
    "cadena_1 = 'Él es {} y vive en {}'.format('Mario', 'Monterrey')\n",
    "cadena_2 = 'Él es {} y vive en {}'.format('Jorge', 'Juárez')\n",
    "\n",
    "print(cadena_1)\n",
    "print(cadena_2)\n"
   ]
  },
  {
   "cell_type": "code",
   "execution_count": 13,
   "metadata": {},
   "outputs": [
    {
     "data": {
      "text/plain": [
       "'Mi nombre es Jaime Figueroa. En la lista me puedes encontrar como Figueroa, Jaime'"
      ]
     },
     "execution_count": 13,
     "metadata": {},
     "output_type": "execute_result"
    }
   ],
   "source": [
    "nombre = 'Jaime'\n",
    "apellido = 'Figueroa'\n",
    "\n",
    "'Mi nombre es {0} {1}. En la lista me puedes encontrar como {1}, {0}'.format(nombre, apellido)"
   ]
  },
  {
   "cell_type": "markdown",
   "metadata": {},
   "source": [
    "### Listas"
   ]
  },
  {
   "cell_type": "markdown",
   "metadata": {},
   "source": [
    "Las listas se utilizan mucho en python. La sintaxis es parecida a la de los arreglos en otros lenguajes, pero no se deben de considerar equivalentes. Las listas de python pueden agrupar datos de distintos tipos."
   ]
  },
  {
   "cell_type": "code",
   "execution_count": 10,
   "metadata": {},
   "outputs": [
    {
     "data": {
      "text/plain": [
       "[1, 2, 3, 4]"
      ]
     },
     "execution_count": 10,
     "metadata": {},
     "output_type": "execute_result"
    }
   ],
   "source": [
    "[1, 2, 3, 4]"
   ]
  },
  {
   "cell_type": "code",
   "execution_count": 12,
   "metadata": {},
   "outputs": [
    {
     "name": "stdout",
     "output_type": "stream",
     "text": [
      "['Jorge', 'Juan', 'Javier']\n"
     ]
    }
   ],
   "source": [
    "amigo_1 = 'Jorge'\n",
    "\n",
    "amigos = [amigo_1, 'Juan', 'Javier']\n",
    "\n",
    "print(amigos)"
   ]
  },
  {
   "cell_type": "code",
   "execution_count": 28,
   "metadata": {},
   "outputs": [
    {
     "data": {
      "text/plain": [
       "['uno', 'dos', 'tres']"
      ]
     },
     "execution_count": 28,
     "metadata": {},
     "output_type": "execute_result"
    }
   ],
   "source": [
    "['uno', 'dos', 'tres']"
   ]
  },
  {
   "cell_type": "code",
   "execution_count": 29,
   "metadata": {},
   "outputs": [
    {
     "data": {
      "text/plain": [
       "[1, 'dos', [3, 4]]"
      ]
     },
     "execution_count": 29,
     "metadata": {},
     "output_type": "execute_result"
    }
   ],
   "source": [
    "[1, 'dos', [3 , 4] ]"
   ]
  },
  {
   "cell_type": "markdown",
   "metadata": {},
   "source": [
    "***Operaciones:***"
   ]
  },
  {
   "cell_type": "markdown",
   "metadata": {},
   "source": [
    "Las listas tienen la función de almacenar elementos. Por esta razon, los operadores afectan a la lista en si y no a los elementos que contiene (que pueden ser de distintos tipos)."
   ]
  },
  {
   "cell_type": "code",
   "execution_count": 12,
   "metadata": {},
   "outputs": [
    {
     "data": {
      "text/plain": [
       "[1, 2, 3, 4, 'cinico', 6]"
      ]
     },
     "execution_count": 12,
     "metadata": {},
     "output_type": "execute_result"
    }
   ],
   "source": [
    "# Suma de listas\n",
    "[1,2,3] + [4,'cinco',6]"
   ]
  },
  {
   "cell_type": "code",
   "execution_count": 44,
   "metadata": {},
   "outputs": [
    {
     "data": {
      "text/plain": [
       "[1, 2, 3, 1, 2, 3, 1, 2, 3]"
      ]
     },
     "execution_count": 44,
     "metadata": {},
     "output_type": "execute_result"
    }
   ],
   "source": [
    "# Multiplicación\n",
    "[1, 2, 3] * 3"
   ]
  },
  {
   "cell_type": "markdown",
   "metadata": {},
   "source": [
    "***Métodos importantes***"
   ]
  },
  {
   "cell_type": "markdown",
   "metadata": {},
   "source": [
    "Append"
   ]
  },
  {
   "cell_type": "code",
   "execution_count": 20,
   "metadata": {},
   "outputs": [
    {
     "name": "stdout",
     "output_type": "stream",
     "text": [
      "['Hugo', 'Paco', 'Luis']\n"
     ]
    }
   ],
   "source": [
    "lista_a = ['Hugo', 'Paco']\n",
    "\n",
    "lista_a.append('Luis')\n",
    "\n",
    "print(lista_a)\n"
   ]
  },
  {
   "cell_type": "markdown",
   "metadata": {},
   "source": [
    "Remove"
   ]
  },
  {
   "cell_type": "code",
   "execution_count": 13,
   "metadata": {},
   "outputs": [
    {
     "name": "stdout",
     "output_type": "stream",
     "text": [
      "['Paco']\n"
     ]
    }
   ],
   "source": [
    "lista_a = ['Hugo', 'Paco']\n",
    "\n",
    "lista_a.remove('Hugo')\n",
    "\n",
    "print(lista_a)\n"
   ]
  },
  {
   "cell_type": "code",
   "execution_count": 17,
   "metadata": {},
   "outputs": [
    {
     "name": "stdout",
     "output_type": "stream",
     "text": [
      "['Hugo', 'Paco', 'Luis']\n"
     ]
    }
   ],
   "source": [
    "lista_b = ['Hugo', 'Paco', 'Luis']\n",
    "\n",
    "indice_inicio = 0\n",
    "indice_fin = 3\n",
    "\n",
    "lista_b = lista_b[indice_inicio:indice_fin]\n",
    "\n",
    "print(lista_b)"
   ]
  },
  {
   "cell_type": "markdown",
   "metadata": {},
   "source": [
    "Extend"
   ]
  },
  {
   "cell_type": "code",
   "execution_count": 40,
   "metadata": {},
   "outputs": [
    {
     "name": "stdout",
     "output_type": "stream",
     "text": [
      "[1, 2, 3, 4, [5, 6, 7]]\n"
     ]
    }
   ],
   "source": [
    "lista_b = [1, 2, 3, 4]\n",
    "\n",
    "lista_b.append([5, 6, 7])\n",
    "\n",
    "print(lista_b)"
   ]
  },
  {
   "cell_type": "code",
   "execution_count": 1,
   "metadata": {},
   "outputs": [
    {
     "name": "stdout",
     "output_type": "stream",
     "text": [
      "[1, 2, 3, 4, 5, 6, 7]\n"
     ]
    }
   ],
   "source": [
    "lista_b = [1, 2, 3, 4]\n",
    "\n",
    "lista_b.extend([5, 6, 7])\n",
    "\n",
    "print(lista_b)"
   ]
  },
  {
   "cell_type": "code",
   "execution_count": null,
   "metadata": {},
   "outputs": [],
   "source": []
  },
  {
   "cell_type": "markdown",
   "metadata": {},
   "source": [
    "### Tuplas (Tuples)"
   ]
  },
  {
   "cell_type": "markdown",
   "metadata": {},
   "source": [
    "Las tuplas en principio parecerán muy similares a las listas. La diferencia radica en que en una tupla, el órden de los elementos tiene un significado y en que estas no son modificables una vez generadas."
   ]
  },
  {
   "cell_type": "code",
   "execution_count": 45,
   "metadata": {},
   "outputs": [
    {
     "data": {
      "text/plain": [
       "(1, 2, 3)"
      ]
     },
     "execution_count": 45,
     "metadata": {},
     "output_type": "execute_result"
    }
   ],
   "source": [
    "(1, 2, 3)"
   ]
  },
  {
   "cell_type": "code",
   "execution_count": 46,
   "metadata": {},
   "outputs": [
    {
     "data": {
      "text/plain": [
       "('uno', 'dos', 'tres')"
      ]
     },
     "execution_count": 46,
     "metadata": {},
     "output_type": "execute_result"
    }
   ],
   "source": [
    "('uno', 'dos', 'tres')"
   ]
  },
  {
   "cell_type": "code",
   "execution_count": 47,
   "metadata": {},
   "outputs": [
    {
     "data": {
      "text/plain": [
       "(1, 'dos', [3, 4])"
      ]
     },
     "execution_count": 47,
     "metadata": {},
     "output_type": "execute_result"
    }
   ],
   "source": [
    "(1, 'dos', [3 , 4] )"
   ]
  },
  {
   "cell_type": "markdown",
   "metadata": {},
   "source": [
    "Un ejemplo dónde la posición de los elementos tiene un significado sería en un sistema de cordenadas geográficas (latitud, longitud)."
   ]
  },
  {
   "cell_type": "code",
   "execution_count": 8,
   "metadata": {},
   "outputs": [
    {
     "name": "stdout",
     "output_type": "stream",
     "text": [
      "Latitud 25.675872\n",
      "Longitud -100.282535\n"
     ]
    }
   ],
   "source": [
    "monterrey = (25.675872, -100.282535)\n",
    "\n",
    "print ('Latitud', monterrey[0])\n",
    "print ('Longitud', monterrey[1])"
   ]
  },
  {
   "cell_type": "markdown",
   "metadata": {},
   "source": [
    "Para mantener la integridad de los datos, las tuplas no permiten modificaciones. \n",
    "\n",
    "En este ejemplo, si quisieramos cambiar la longitud o la latitud, la tupla completa perdería su significado ya que dejaría de representar a la ciudad de Monterrey."
   ]
  },
  {
   "cell_type": "code",
   "execution_count": 33,
   "metadata": {},
   "outputs": [
    {
     "name": "stdout",
     "output_type": "stream",
     "text": [
      "25.675872\n"
     ]
    },
    {
     "ename": "TypeError",
     "evalue": "'tuple' object does not support item assignment",
     "output_type": "error",
     "traceback": [
      "\u001b[0;31m---------------------------------------------------------------------------\u001b[0m",
      "\u001b[0;31mTypeError\u001b[0m                                 Traceback (most recent call last)",
      "\u001b[0;32m<ipython-input-33-dcfe9ef4058e>\u001b[0m in \u001b[0;36m<module>\u001b[0;34m\u001b[0m\n\u001b[1;32m      3\u001b[0m \u001b[0mprint\u001b[0m\u001b[0;34m(\u001b[0m\u001b[0mmonterrey\u001b[0m\u001b[0;34m[\u001b[0m\u001b[0;36m0\u001b[0m\u001b[0;34m]\u001b[0m\u001b[0;34m)\u001b[0m\u001b[0;34m\u001b[0m\u001b[0;34m\u001b[0m\u001b[0m\n\u001b[1;32m      4\u001b[0m \u001b[0;34m\u001b[0m\u001b[0m\n\u001b[0;32m----> 5\u001b[0;31m \u001b[0mmonterrey\u001b[0m\u001b[0;34m[\u001b[0m\u001b[0;36m1\u001b[0m\u001b[0;34m]\u001b[0m \u001b[0;34m=\u001b[0m \u001b[0;34m-\u001b[0m\u001b[0;36m99\u001b[0m\u001b[0;34m\u001b[0m\u001b[0;34m\u001b[0m\u001b[0m\n\u001b[0m",
      "\u001b[0;31mTypeError\u001b[0m: 'tuple' object does not support item assignment"
     ]
    }
   ],
   "source": [
    "monterrey = (25.675872, -100.282535)\n",
    "\n",
    "print(monterrey[0])\n",
    "\n",
    "monterrey[1] = -99"
   ]
  },
  {
   "cell_type": "markdown",
   "metadata": {},
   "source": [
    "***Operaciones:***"
   ]
  },
  {
   "cell_type": "markdown",
   "metadata": {},
   "source": [
    "El funcionamiento es similar al de las listas, pero solo podemos aplicar la multiplicación."
   ]
  },
  {
   "cell_type": "code",
   "execution_count": 49,
   "metadata": {},
   "outputs": [
    {
     "data": {
      "text/plain": [
       "(25.675872, -100.282535, 25.675872, -100.282535)"
      ]
     },
     "execution_count": 49,
     "metadata": {},
     "output_type": "execute_result"
    }
   ],
   "source": [
    "# Multiplicación\n",
    "monterrey * 2"
   ]
  },
  {
   "cell_type": "markdown",
   "metadata": {},
   "source": [
    "### Dicionarios"
   ]
  },
  {
   "cell_type": "markdown",
   "metadata": {},
   "source": [
    "Los diccionarios funcionan con claves y valores en lugar de índices. Comunmente se usan para almacenar distintos datos que tienen una relación entre si."
   ]
  },
  {
   "cell_type": "code",
   "execution_count": 19,
   "metadata": {},
   "outputs": [
    {
     "name": "stdout",
     "output_type": "stream",
     "text": [
      "{'tipo': 'Pizza', 'ingredientes': ['Jamon Serrano', 'Espinacas', 'Aceitunas', 'Alcachofas']}\n"
     ]
    }
   ],
   "source": [
    "platillo = {\n",
    "    'tipo': 'Pizza',\n",
    "    'ingredientes': ['Jamon Serrano', 'Espinacas', 'Aceitunas', 'Alcachofas']\n",
    "}\n",
    "\n",
    "print(platillo)"
   ]
  },
  {
   "cell_type": "markdown",
   "metadata": {},
   "source": [
    "Para agregar un nuevo elemento al diccionario solo usamos una nueva clave y le asignamos un valor."
   ]
  },
  {
   "cell_type": "code",
   "execution_count": 20,
   "metadata": {},
   "outputs": [
    {
     "name": "stdout",
     "output_type": "stream",
     "text": [
      "<class 'dict'> {'tipo': 'Pizza', 'ingredientes': ['Jamon Serrano', 'Espinacas', 'Aceitunas', 'Alcachofas'], 'tamaño': 'familiar'}\n",
      "familiar\n"
     ]
    }
   ],
   "source": [
    "platillo['tamaño'] = 'familiar'\n",
    "\n",
    "print(type(platillo), platillo)\n",
    "\n",
    "print(platillo['tamaño'])"
   ]
  },
  {
   "cell_type": "markdown",
   "metadata": {},
   "source": [
    "***Nota:*** No se debe de confiar en que los elementos de un diccionario se encuentren en algun orden en particular al momento de ser consultados ya que python no los guarda en el orden en que fueron agregados."
   ]
  },
  {
   "cell_type": "markdown",
   "metadata": {},
   "source": [
    "## Indexing and cortes (slicing)"
   ]
  },
  {
   "cell_type": "markdown",
   "metadata": {},
   "source": [
    "Para acceder elementos en una lista o otros objetos python utiliza indices y se encierran entre corchetes \"\\[ \\]\". Se usan números positivos para selecionar usando el indice y númeos negativos para seleccionar elementos empezando desde la última posición.\n",
    "\n",
    "En python los indices empiezan en cero."
   ]
  },
  {
   "cell_type": "code",
   "execution_count": 62,
   "metadata": {},
   "outputs": [
    {
     "data": {
      "text/plain": [
       "'b'"
      ]
     },
     "execution_count": 62,
     "metadata": {},
     "output_type": "execute_result"
    }
   ],
   "source": [
    "lista = ['a', 'b', 'c', 'd', 'e', 'f']\n",
    "\n",
    "lista[1]"
   ]
  },
  {
   "cell_type": "code",
   "execution_count": 63,
   "metadata": {},
   "outputs": [
    {
     "data": {
      "text/plain": [
       "'f'"
      ]
     },
     "execution_count": 63,
     "metadata": {},
     "output_type": "execute_result"
    }
   ],
   "source": [
    "lista = ['a', 'b', 'c', 'd', 'e', 'f']\n",
    "\n",
    "lista[-1]"
   ]
  },
  {
   "cell_type": "markdown",
   "metadata": {},
   "source": [
    "Para obtener un corte de los elementos de una lista usamos la misma notación pero separando el inicio y fin con dos puntos \"\\[ inicio : fin ]\". Opcionalmente, podemos dejar una de ests dos partes vacía para indicar que queremos todos los elementos hasta o desde un punto.\n",
    "\n",
    "Nota: el elemento con el índice igual al punto de inicio es incluido en la lista de respuesta, pero el que tiene el índice igual al fin del rango no. Esto quiere decir que si ejecutamos lista[0:1], obtendremos una lista solo con el primer elemento."
   ]
  },
  {
   "cell_type": "code",
   "execution_count": 64,
   "metadata": {},
   "outputs": [
    {
     "data": {
      "text/plain": [
       "['cero', 'uno']"
      ]
     },
     "execution_count": 64,
     "metadata": {},
     "output_type": "execute_result"
    }
   ],
   "source": [
    "lista = ['cero', 'uno', 'dos', 'tres', 'cuatro', 'cinco']\n",
    "\n",
    "lista[0:2]"
   ]
  },
  {
   "cell_type": "code",
   "execution_count": 65,
   "metadata": {},
   "outputs": [
    {
     "data": {
      "text/plain": [
       "['cuatro', 'cinco']"
      ]
     },
     "execution_count": 65,
     "metadata": {},
     "output_type": "execute_result"
    }
   ],
   "source": [
    "lista = ['cero', 'uno', 'dos', 'tres', 'cuatro', 'cinco']\n",
    "\n",
    "lista[-2:]"
   ]
  },
  {
   "cell_type": "code",
   "execution_count": 43,
   "metadata": {},
   "outputs": [
    {
     "data": {
      "text/plain": [
       "['tres', 'cuatro', 'cinco']"
      ]
     },
     "execution_count": 43,
     "metadata": {},
     "output_type": "execute_result"
    }
   ],
   "source": [
    "lista = ['cero', 'uno', 'dos', 'tres', 'cuatro', 'cinco']\n",
    "\n",
    "lista[-3:]"
   ]
  },
  {
   "cell_type": "markdown",
   "metadata": {},
   "source": [
    "## Estructuras de control"
   ]
  },
  {
   "cell_type": "markdown",
   "metadata": {},
   "source": [
    "### Valores booleanos"
   ]
  },
  {
   "cell_type": "markdown",
   "metadata": {},
   "source": [
    "Como en otros lenguajes, pueden ser verdadero (True) o falso (False).\n",
    "\n",
    "***Operaciones:***"
   ]
  },
  {
   "cell_type": "markdown",
   "metadata": {},
   "source": [
    "And (&)"
   ]
  },
  {
   "cell_type": "code",
   "execution_count": 112,
   "metadata": {},
   "outputs": [
    {
     "data": {
      "text/plain": [
       "True"
      ]
     },
     "execution_count": 112,
     "metadata": {},
     "output_type": "execute_result"
    }
   ],
   "source": [
    "True and True"
   ]
  },
  {
   "cell_type": "code",
   "execution_count": 116,
   "metadata": {},
   "outputs": [
    {
     "data": {
      "text/plain": [
       "False"
      ]
     },
     "execution_count": 116,
     "metadata": {},
     "output_type": "execute_result"
    }
   ],
   "source": [
    "True & False"
   ]
  },
  {
   "cell_type": "markdown",
   "metadata": {},
   "source": [
    "Or (|)"
   ]
  },
  {
   "cell_type": "code",
   "execution_count": 113,
   "metadata": {},
   "outputs": [
    {
     "data": {
      "text/plain": [
       "True"
      ]
     },
     "execution_count": 113,
     "metadata": {},
     "output_type": "execute_result"
    }
   ],
   "source": [
    "True or False"
   ]
  },
  {
   "cell_type": "code",
   "execution_count": 117,
   "metadata": {},
   "outputs": [
    {
     "data": {
      "text/plain": [
       "False"
      ]
     },
     "execution_count": 117,
     "metadata": {},
     "output_type": "execute_result"
    }
   ],
   "source": [
    "False | False"
   ]
  },
  {
   "cell_type": "code",
   "execution_count": 2,
   "metadata": {},
   "outputs": [
    {
     "data": {
      "text/plain": [
       "True"
      ]
     },
     "execution_count": 2,
     "metadata": {},
     "output_type": "execute_result"
    }
   ],
   "source": [
    "False and True or True"
   ]
  },
  {
   "cell_type": "markdown",
   "metadata": {},
   "source": [
    "### Operadores de comparación"
   ]
  },
  {
   "cell_type": "code",
   "execution_count": 118,
   "metadata": {},
   "outputs": [
    {
     "data": {
      "text/plain": [
       "False"
      ]
     },
     "execution_count": 118,
     "metadata": {},
     "output_type": "execute_result"
    }
   ],
   "source": [
    "# Mayor que (>) y menor que (<)\n",
    "1 > 2"
   ]
  },
  {
   "cell_type": "code",
   "execution_count": 22,
   "metadata": {},
   "outputs": [
    {
     "name": "stdout",
     "output_type": "stream",
     "text": [
      "True\n",
      "True\n"
     ]
    }
   ],
   "source": [
    "# Igual que (==)\n",
    "print(3 + 1 == 4)\n",
    "\n",
    "\n",
    "print('1' == '1')"
   ]
  },
  {
   "cell_type": "code",
   "execution_count": 24,
   "metadata": {},
   "outputs": [
    {
     "data": {
      "text/plain": [
       "False"
      ]
     },
     "execution_count": 24,
     "metadata": {},
     "output_type": "execute_result"
    }
   ],
   "source": [
    "#Mayor o igual que (>=) y menor o igual que (<=)\n",
    "8 < 8"
   ]
  },
  {
   "cell_type": "code",
   "execution_count": 26,
   "metadata": {},
   "outputs": [
    {
     "data": {
      "text/plain": [
       "True"
      ]
     },
     "execution_count": 26,
     "metadata": {},
     "output_type": "execute_result"
    }
   ],
   "source": [
    "#Encadenado de comparaciones\n",
    "x = 2\n",
    "1 < x < 3"
   ]
  },
  {
   "cell_type": "markdown",
   "metadata": {},
   "source": [
    "### If"
   ]
  },
  {
   "cell_type": "markdown",
   "metadata": {},
   "source": [
    "Se utiliza para ejecutar un codigo solo si se cumple ciert condición."
   ]
  },
  {
   "cell_type": "code",
   "execution_count": 29,
   "metadata": {},
   "outputs": [
    {
     "name": "stdout",
     "output_type": "stream",
     "text": [
      "5 es menor que 10\n"
     ]
    }
   ],
   "source": [
    "x = 5\n",
    "\n",
    "if x < 10:\n",
    "    print('{0} es menor que 10'.format(x))"
   ]
  },
  {
   "cell_type": "markdown",
   "metadata": {},
   "source": [
    "### Elif y else"
   ]
  },
  {
   "cell_type": "markdown",
   "metadata": {},
   "source": [
    "Se usan para agregar más condiciones a una cláusula if. \"elif\" agrega una confición que se evalua si la anterior no fue evaluada como verdadera, mientras \"else\" ejecuta un bloque de código si ninguna d elas condiciones anteriores fue evaluada como verdadera."
   ]
  },
  {
   "cell_type": "code",
   "execution_count": 31,
   "metadata": {},
   "outputs": [
    {
     "name": "stdout",
     "output_type": "stream",
     "text": [
      "1000 es mayor que 300\n"
     ]
    }
   ],
   "source": [
    "x = 1000\n",
    "\n",
    "if x < 10:\n",
    "    print( '{0} es menor que 10'.format(x) )\n",
    "elif x < 100:\n",
    "    print( '{0} es menor que 100'.format(x) )\n",
    "elif x < 200:\n",
    "    print( '{0} es menor que 200'.format(x) )\n",
    "elif x < 300:\n",
    "    print( '{0} es menor que 300'.format(x) )\n",
    "else:\n",
    "    print( '{0} es mayor que 300'.format(x) )\n",
    "    "
   ]
  },
  {
   "cell_type": "markdown",
   "metadata": {},
   "source": [
    "### For"
   ]
  },
  {
   "cell_type": "markdown",
   "metadata": {},
   "source": [
    "Se utiliza para ejecutar una sección de codigo sobre los distintos elementos de un objeto \"iterables\" como una lista, rango, cadena, o tupla.\n",
    "\n",
    "La sintaxis que se usa para el for es:\n",
    "```python\n",
    "for elemento in objeto_iterable:\n",
    "    ...\n",
    "    ...\n",
    "```\n",
    "\n",
    "Donde \"objeto_iterable\" es el objeto sobre el cual estamos iterando y \"elemento\" es el nombre que daremos a la variable que almacena cada uno de los elementos durante cada ciclo."
   ]
  },
  {
   "cell_type": "code",
   "execution_count": 36,
   "metadata": {},
   "outputs": [
    {
     "name": "stdout",
     "output_type": "stream",
     "text": [
      "lunes\n",
      "martes\n",
      "miercoles\n",
      "jueves\n",
      "viernes\n",
      "sabado\n",
      "domingo\n",
      "\n",
      "\n",
      "['LUN', 'MAR', 'MIE', 'JUE', 'VIE', 'SAB', 'DOM']\n"
     ]
    }
   ],
   "source": [
    "semana = ['lunes', 'martes', 'miercoles', 'jueves', 'viernes', 'sabado', 'domingo']\n",
    "\n",
    "\n",
    "# A diferencia de otros lenguajes python no cuenta con un break(n)\n",
    "for dia in semana:\n",
    "    print(dia)\n",
    "    \n",
    "print('\\n')\n",
    "\n",
    "mi_nueva_lista = []\n",
    "for dia in semana:\n",
    "    mi_nueva_lista.append(dia[0:3].upper())\n",
    "    \n",
    "print(mi_nueva_lista)\n"
   ]
  },
  {
   "cell_type": "code",
   "execution_count": 42,
   "metadata": {},
   "outputs": [
    {
     "name": "stdout",
     "output_type": "stream",
     "text": [
      "indice = 0\n",
      "indice de nuevo = 0\n",
      "indice = 1\n",
      "indice de nuevo = 1\n",
      "indice = 2\n",
      "indice de nuevo = 2\n",
      "indice = 3\n",
      "indice de nuevo = 3\n",
      "indice = 4\n",
      "indice de nuevo = 4\n",
      "indice = 5\n",
      "indice de nuevo = 5\n",
      "indice = 6\n",
      "indice de nuevo = 6\n",
      "indice = 7\n",
      "indice de nuevo = 7\n",
      "indice = 8\n",
      "indice de nuevo = 8\n",
      "indice = 9\n",
      "indice de nuevo = 9\n",
      "indice = 10\n",
      "indice de nuevo = 10\n",
      "indice = 11\n",
      "indice = 12\n",
      "indice = 13\n",
      "indice = 14\n",
      "indice = 15\n",
      "indice = 16\n",
      "indice = 17\n",
      "indice = 18\n",
      "indice = 19\n",
      "indice = 20\n",
      "indice = 21\n",
      "indice = 22\n",
      "indice = 23\n",
      "indice = 24\n",
      "indice = 25\n",
      "indice = 26\n",
      "indice = 27\n",
      "indice = 28\n",
      "indice = 29\n",
      "indice = 30\n",
      "indice = 31\n",
      "indice = 32\n",
      "indice = 33\n",
      "indice = 34\n",
      "indice = 35\n",
      "indice = 36\n",
      "indice = 37\n",
      "indice = 38\n",
      "indice = 39\n",
      "indice = 40\n",
      "indice = 41\n",
      "indice = 42\n",
      "indice = 43\n",
      "indice = 44\n",
      "indice = 45\n",
      "indice = 46\n",
      "indice = 47\n",
      "indice = 48\n",
      "indice = 49\n",
      "indice = 50\n",
      "indice = 51\n",
      "indice = 52\n",
      "indice = 53\n",
      "indice = 54\n",
      "indice = 55\n",
      "indice = 56\n",
      "indice = 57\n",
      "indice = 58\n",
      "indice = 59\n",
      "indice = 60\n",
      "indice = 61\n",
      "indice = 62\n",
      "indice = 63\n",
      "indice = 64\n",
      "indice = 65\n",
      "indice = 66\n",
      "indice = 67\n",
      "indice = 68\n",
      "indice = 69\n",
      "indice = 70\n",
      "indice = 71\n",
      "indice = 72\n",
      "indice = 73\n",
      "indice = 74\n",
      "indice = 75\n",
      "indice = 76\n",
      "indice = 77\n",
      "indice = 78\n",
      "indice = 79\n",
      "indice = 80\n",
      "indice = 81\n",
      "indice = 82\n",
      "indice = 83\n",
      "indice = 84\n",
      "indice = 85\n",
      "indice = 86\n",
      "indice = 87\n",
      "indice = 88\n",
      "indice = 89\n",
      "indice = 90\n",
      "indice = 91\n",
      "indice = 92\n",
      "indice = 93\n",
      "indice = 94\n",
      "indice = 95\n",
      "indice = 96\n",
      "indice = 97\n",
      "indice = 98\n",
      "indice = 99\n"
     ]
    }
   ],
   "source": [
    "for x in range(100):\n",
    "    # Se ejecuta 100 veces\n",
    "    # Hago lo que quiero hacer\n",
    "    print('indice =', x)\n",
    "    \n",
    "    if x == 10:\n",
    "        continue # Hasta aqui se detiene\n",
    "    \n",
    "    print('indice de nuevo =', x)\n",
    "    \n",
    "    if x > 8:\n",
    "        # TODO Esto lo hará Andrés\n",
    "        pass\n",
    "    if x > 8:\n",
    "        break"
   ]
  },
  {
   "cell_type": "markdown",
   "metadata": {},
   "source": [
    "### While"
   ]
  },
  {
   "cell_type": "markdown",
   "metadata": {},
   "source": [
    "Se usa para ejecutar repetidamente un conjunto de intrucciones mientras se cumpla una condición."
   ]
  },
  {
   "cell_type": "code",
   "execution_count": 18,
   "metadata": {},
   "outputs": [
    {
     "name": "stdout",
     "output_type": "stream",
     "text": [
      "contador = 0\n",
      "contador = 1\n",
      "contador = 2\n",
      "contador = 3\n",
      "contador = 4\n"
     ]
    }
   ],
   "source": [
    "contador = 0\n",
    "while contador < 5:\n",
    "    print( 'contador =', contador )\n",
    "    contador += 1  # contador = contador + 1"
   ]
  },
  {
   "cell_type": "markdown",
   "metadata": {},
   "source": [
    "## Funciones"
   ]
  },
  {
   "cell_type": "markdown",
   "metadata": {
    "heading_collapsed": true
   },
   "source": [
    "### Definir una función"
   ]
  },
  {
   "cell_type": "markdown",
   "metadata": {
    "hidden": true
   },
   "source": [
    "Las funciones nos sirven para dar estructura y reutilizar código.\n",
    "\n",
    "En Python, las funciones se definen con la instrucción \"def\" seguida de un nombre descriptivo para la función, los argumentos que recibe entre parentesis y dos puntos puntos al final de la linea. En las líneas siguientes se incluye el bloque de código que se ejecutará como parte de esa función. El código que forma parte de la función debe de estar indentado una sangria (4 espacios) más que la linea donde se define la función.\n",
    "\n",
    "```python\n",
    "def funcion_prueba(argumentos):\n",
    "    ....\n",
    "```\n",
    "\n",
    "Opcionalmente se puede agregar un valor de retorno con usando la instrucción \"return\" dentro del bloque de cófigo de la función. Al ejecutarse el \"return\" se interrumpe la ejecución de la función y esta regresa el valor definido.\n",
    "\n",
    "```python\n",
    "def funcion_prueba(argumentos):\n",
    "    respuesta = 42\n",
    "    return respuesta\n",
    "```\n",
    "\n"
   ]
  },
  {
   "cell_type": "code",
   "execution_count": 44,
   "metadata": {},
   "outputs": [
    {
     "name": "stdout",
     "output_type": "stream",
     "text": [
      "False\n"
     ]
    }
   ],
   "source": [
    "def funcion_prueba_dos(argumento):\n",
    "    argumento = (not (argumento))\n",
    "    return argumento\n",
    "\n",
    "argumento = True\n",
    "print(funcion_prueba_dos(argumento))\n"
   ]
  },
  {
   "cell_type": "markdown",
   "metadata": {
    "heading_collapsed": true
   },
   "source": [
    "### Argumentos"
   ]
  },
  {
   "cell_type": "markdown",
   "metadata": {
    "hidden": true
   },
   "source": [
    "Los argumentos de una función se definen dentro de los parentesis que siguen a su nombre. Una función puede tener cero o más argumentos y estos se separan por comas.\n",
    "\n",
    "```python\n",
    "def crea_usuario(nombre, apellido, grupo_id):\n",
    "    ....\n",
    "```\n",
    "\n",
    "Al momento de ejecutar la función, los argumentos pueden ser entregados a la misma de dos formas diferentes:\n",
    "\n",
    "De acuerdo a su posición:\n",
    "```python\n",
    "crea_usuario('Jaime', 'Figueroa', 1)\n",
    "```\n",
    "\n",
    "Haciendo referencia a los nombres de cada argumento. En este caso no es necesario ingresarlos en el orden que fueron definidos.\n",
    "```python\n",
    "crea_usuario(apellido='Figueroa', nombre='Jaime', grupo_id=42)\n",
    "```"
   ]
  },
  {
   "cell_type": "markdown",
   "metadata": {},
   "source": [
    "### Argumentos por omisión (defaults)"
   ]
  },
  {
   "cell_type": "markdown",
   "metadata": {},
   "source": [
    "Es posible asignar valores default a los argumentos para que sean utilizados en caso de que estos no sean incluidos al momento de llamar la función. Estos se asignan utilizando \"=\" seguido del valor default para ese argumento.\n",
    "\n",
    "```python\n",
    "def crea_usuario(nombre, apellido, grupo_id=42):\n",
    "    ....\n",
    "```\n",
    "***Nota:*** Debido a que los argumentos con valor default son opcionales a la hora de ejecutar la función, estos siempre deberán de ser definido despues de los valores que no tienen default."
   ]
  },
  {
   "cell_type": "markdown",
   "metadata": {
    "heading_collapsed": true
   },
   "source": [
    "### Argumentos arbitrarios (*args)"
   ]
  },
  {
   "cell_type": "markdown",
   "metadata": {
    "hidden": true
   },
   "source": [
    "Algunas funciones requieren de un número no definido de argumentos y para esto, Python incluye la opción de definir parámetros que no están directamente logados a un keyword. Para definirlos se les asigna un nombre precedido de un asterisco."
   ]
  },
  {
   "cell_type": "code",
   "execution_count": 47,
   "metadata": {
    "hidden": true
   },
   "outputs": [
    {
     "name": "stdout",
     "output_type": "stream",
     "text": [
      "Veo que tenemos 3 personas!\n",
      "hola, Hugo!\n",
      "hola, Paco!\n",
      "hola, Luis!\n"
     ]
    }
   ],
   "source": [
    "def saluda_visitas(*args, **kwargs):\n",
    "    num_visitas = len(args)\n",
    "    print('Veo que tenemos {} personas!'.format(num_visitas))\n",
    "    for nom in args:\n",
    "        print('hola, {}!'.format(nom))\n",
    "\n",
    "\n",
    "saluda_visitas('Hugo', 'Paco', 'Luis')"
   ]
  },
  {
   "cell_type": "markdown",
   "metadata": {
    "heading_collapsed": true
   },
   "source": [
    "### Desempaquetado de argumentos (**kwargs)"
   ]
  },
  {
   "cell_type": "markdown",
   "metadata": {
    "hidden": true
   },
   "source": [
    "Al momento de llamar una función, podemos utilizar un diccionario para pasar argumentos a una función utilizando un doble asterisco antes del nombre del diccionario."
   ]
  },
  {
   "cell_type": "code",
   "execution_count": 90,
   "metadata": {
    "hidden": true
   },
   "outputs": [
    {
     "data": {
      "text/plain": [
       "1440.0"
      ]
     },
     "execution_count": 90,
     "metadata": {},
     "output_type": "execute_result"
    }
   ],
   "source": [
    "def calcula_total(precio_unitario, cantidad, iva=.15):\n",
    "    return precio_unitario * cantidad * (1 + iva)\n",
    "\n",
    "def calcula_total_dos(cantidad, iva=.15, **kwargs):\n",
    "    return kwargs['precio_unitario'] * cantidad * (1 + iva)\n",
    "\n",
    "datos = {'precio_unitario': 120, 'cantidad': 10, 'iva': .20}\n",
    "\n",
    "calcula_total(**datos)\n",
    "\n",
    "calcula_total_dos(**datos)"
   ]
  },
  {
   "cell_type": "markdown",
   "metadata": {},
   "source": [
    "### ¿Pasar por referencia o por valor? \n",
    "\n",
    "#### Variables\n",
    "\n",
    "Si se pasa una variable, se pasa por valor, lo que significa que los cambios hechos localmente no se reflejarán globalmente. (Como sucuede en el lenguaje C)\n",
    "\n",
    "If you are passing a variable, then it's pass by value, which means the changes made to the variable within the function are local to that function and hence won't be reflected globally. This is more of a 'C' like behavior.\n",
    "\n",
    "\n",
    "#### Objetos mutables (como listas)\n",
    "\n",
    "Si se pasa un objeto mutable, como una lista, los cambios hechos al objeto se refleran en un contexto global. Siempre y cuando no sea reasignado\n",
    "\n",
    "``` python\n",
    "def cambia_mi_lista( mi_lista ):\n",
    "   mi_lista_2 = ['a'];\n",
    "   mi_lista.append(mi_lista_2);\n",
    "   print (\"valores: \", mi_lista)\n",
    "   return None\n",
    "   \n",
    "def cambia_mi_lista_dos( mi_lista ):\n",
    "   mi_lista = ['a'];\n",
    "   print (\"valores: \", mi_lista)\n",
    "   return None\n",
    "   \n",
    "mi_lista = [1,2,3];\n",
    "cambia_mi_lista( mi_lista );\n",
    "\n",
    "print (\"valores fuera de la funcion: \", mi_lista)\n",
    "\n",
    "   \n",
    "```\n"
   ]
  },
  {
   "cell_type": "code",
   "execution_count": 20,
   "metadata": {},
   "outputs": [
    {
     "name": "stdout",
     "output_type": "stream",
     "text": [
      "valores:  [1, 2, 3, ['a']]\n",
      "valores:  ['a']\n",
      "valores fuera de la funcion:  [1, 2, 3, ['a']]\n"
     ]
    }
   ],
   "source": [
    "def cambia_mi_lista( mi_lista ):\n",
    "   mi_lista_2 = ['a'];\n",
    "   mi_lista.append(mi_lista_2);\n",
    "   print (\"valores: \", mi_lista)\n",
    "   return None\n",
    "\n",
    "def cambia_mi_lista_dos( mi_lista ):\n",
    "   mi_lista = ['a'];\n",
    "   print (\"valores: \", mi_lista)\n",
    "   return None\n",
    "\n",
    "mi_lista = [1,2,3];\n",
    "cambia_mi_lista( mi_lista );\n",
    "cambia_mi_lista_dos( mi_lista );\n",
    "\n",
    "print (\"valores fuera de la funcion: \", mi_lista)"
   ]
  },
  {
   "cell_type": "markdown",
   "metadata": {
    "heading_collapsed": true
   },
   "source": [
    "### Docstrings"
   ]
  },
  {
   "cell_type": "markdown",
   "metadata": {
    "hidden": true
   },
   "source": [
    "Una de las mejores prácticas que podemos usar para hacer que nuestro código sea legible es el de usar nombres descriptivos para cada variable y función que nos den indicios del contenido y función de las mismas. Pero a pesar de tener nombres descriptivos, las funciones deberán de llevar una cadena de texto al principio con una descripción del uso de la misma. A esta cadena se le conoce como docstring y en editores como Jupyter Notebook esta se muestra en los tooltips cuando estamos programando.\n",
    "\n",
    "Los docstrings se escriben entre triples comillas dobles y deberán de incluir:\n",
    "1. Linea con resumen\n",
    "2. Argumentos\n",
    "3. Tipo y semántica de la respuesta (si aplica) \n",
    "4. Casos de uso (si aplica)\n",
    "\n",
    "***Nota:*** para ver la documentación de una función en python podemos escribir el nombre de la función y presionar shitf + tab.\n",
    "\n",
    "***Nota2:*** las funciones muy sencillas pueden llevar un docstring de una línea (solo con el resumen)."
   ]
  },
  {
   "cell_type": "code",
   "execution_count": 93,
   "metadata": {
    "hidden": true
   },
   "outputs": [
    {
     "data": {
      "text/plain": [
       "1380.0"
      ]
     },
     "execution_count": 93,
     "metadata": {},
     "output_type": "execute_result"
    }
   ],
   "source": [
    "def calcula_total(precio_unitario, cantidad, iva=.15):\n",
    "    \"\"\"\n",
    "    Calcula el total de un pedido\n",
    "\n",
    "    Argumentos\n",
    "    ----------\n",
    "    precio_unitario : float o int\n",
    "        Precio unitario del producto.\n",
    "        \n",
    "    cantidad : float o int\n",
    "        Cantidad de productos que se están solicitando.\n",
    "\n",
    "    Respuesta\n",
    "    ---------\n",
    "    array_n : float\n",
    "        Monto total a pagar. se calcula usando la formula: precio unitario * cantidad * (1 + tasa del iva)\n",
    "\n",
    "    Uso\n",
    "    --------\n",
    "    Usando iva default del 15%:\n",
    "        calcula_total(precio_unitario=120 , cantidad=10)\n",
    "    \n",
    "    Usando iva del 0%:\n",
    "        calcula_total(precio_unitario=120 , cantidad=10, iva=0)\n",
    "\n",
    "    \"\"\"\n",
    "    \n",
    "    return precio_unitario * cantidad * (1 + iva)\n",
    "\n",
    "\n",
    "datos = {'precio_unitario': 120, 'cantidad': 10}\n",
    "\n",
    "calcula_total(**datos)"
   ]
  },
  {
   "cell_type": "markdown",
   "metadata": {},
   "source": [
    "### Scope de Variables"
   ]
  },
  {
   "cell_type": "markdown",
   "metadata": {
    "heading_collapsed": true
   },
   "source": [
    "#### Scope global y local"
   ]
  },
  {
   "cell_type": "markdown",
   "metadata": {
    "hidden": true
   },
   "source": [
    "Las variables globales son las que se definen fuera de una función. Estas pueden ser leidas desde cualquier parte del código.\n",
    "\n",
    "```python\n",
    "\n",
    "```\n",
    "\n",
    "Las variables locales son aquellas que se definen dentro de una función y solo son accesibles dentro de esta. En caso de que una variable local y una global tengan el mismo nombre, dentro de la función se usa siempre el de la variable local."
   ]
  },
  {
   "cell_type": "code",
   "execution_count": 107,
   "metadata": {
    "hidden": true
   },
   "outputs": [
    {
     "name": "stdout",
     "output_type": "stream",
     "text": [
      "Denteo de la función:\t valor global\n",
      "Denteo de la función:\t valor local\n"
     ]
    }
   ],
   "source": [
    "a = 'valor global'\n",
    "\n",
    "def prueba_scope():\n",
    "    b = 'valor local'\n",
    "    print('Denteo de la función:\\t', a)\n",
    "    print('Denteo de la función:\\t', b)\n",
    "\n",
    "    \n",
    "prueba_scope()"
   ]
  },
  {
   "cell_type": "markdown",
   "metadata": {
    "hidden": true
   },
   "source": [
    "Usando el mismo nombre de la variable"
   ]
  },
  {
   "cell_type": "code",
   "execution_count": 108,
   "metadata": {
    "hidden": true
   },
   "outputs": [
    {
     "name": "stdout",
     "output_type": "stream",
     "text": [
      "Denteo de la función:\t valor local\n",
      "Fuera de la función:\t valor global\n"
     ]
    }
   ],
   "source": [
    "a = 'valor global'\n",
    "\n",
    "def prueba_scope():\n",
    "    a = 'valor local'\n",
    "    print('Denteo de la función:\\t', a)\n",
    "\n",
    "    \n",
    "prueba_scope()\n",
    "print('Fuera de la función:\\t', a)"
   ]
  },
  {
   "cell_type": "markdown",
   "metadata": {
    "heading_collapsed": true
   },
   "source": [
    "#### Keyword global"
   ]
  },
  {
   "cell_type": "markdown",
   "metadata": {
    "hidden": true
   },
   "source": [
    "El Keyword \"global\" se utiliza denro de las funciones para hacer referenia a las variables globales y así poder modificarlas dentro de una función.\n",
    "\n",
    "***Nota:*** siempre que sea posible es mejor trabajar con variables locales para tener un mejor control en el flujo de la información. Además de que nos ayuda a prevenir interacciones no planeadas entre distintas partes del código."
   ]
  },
  {
   "cell_type": "code",
   "execution_count": 114,
   "metadata": {
    "hidden": true
   },
   "outputs": [
    {
     "name": "stdout",
     "output_type": "stream",
     "text": [
      "Denteo de la función:\t valor local\n",
      "Fuera de la función:\t valor local\n"
     ]
    }
   ],
   "source": [
    "a = 'valor global'\n",
    "\n",
    "def prueba_scope():\n",
    "    global a\n",
    "    a = 'valor local'\n",
    "    print('Denteo de la función:\\t', a)\n",
    "\n",
    "prueba_scope()\n",
    "print('Fuera de la función:\\t', a)"
   ]
  },
  {
   "cell_type": "markdown",
   "metadata": {},
   "source": [
    "#### Keyword nonlocal"
   ]
  },
  {
   "cell_type": "markdown",
   "metadata": {},
   "source": [
    "El keyword \"nonlocal\" tiene un funcionamiento parecido al de \"global\" pero en lugar de acceder a la variable global directamente accede a la del nivel superior. es decir, si la función fue llamada desde otra función, accede al scope de la que la llamó."
   ]
  },
  {
   "cell_type": "code",
   "execution_count": 112,
   "metadata": {},
   "outputs": [
    {
     "name": "stdout",
     "output_type": "stream",
     "text": [
      "Denteo del hijo:\t valor local hijo\n",
      "Denteo del padre:\t valor local padre\n",
      "Fuera de la función:\t valor global\n"
     ]
    }
   ],
   "source": [
    "a = 'valor global'\n",
    "\n",
    "def prueba_scope():\n",
    "    a = 'valor local padre'\n",
    "    def prueba_scope_hijo():\n",
    "        a = 'valor local hijo'\n",
    "        print('Dentro del hijo:\\t', a)\n",
    "        \n",
    "        \n",
    "    prueba_scope_hijo()\n",
    "    print('Denteo del padre:\\t', a)\n",
    "\n",
    "\n",
    "prueba_scope()\n",
    "print('Fuera de la función:\\t', a)"
   ]
  },
  {
   "cell_type": "code",
   "execution_count": 38,
   "metadata": {},
   "outputs": [
    {
     "name": "stdout",
     "output_type": "stream",
     "text": [
      "Dentro del hijo:\t valor local hijo\n",
      "Dentro del padre:\t valor local hijo\n",
      "Fuera de la función:\t valor global\n"
     ]
    }
   ],
   "source": [
    "global a\n",
    "a = 'valor global'\n",
    "\n",
    "def prueba_scope():\n",
    "    a = 'valor local padre'\n",
    "    def prueba_scope_hijo():\n",
    "        nonlocal a\n",
    "        a = 'valor local hijo'\n",
    "        print('Dentro del hijo:\\t', a)\n",
    "    \n",
    "    prueba_scope_hijo()\n",
    "    # Al imprimir nos da el valor de nonlocal aunque este en otro contexto\n",
    "    print('Dentro del padre:\\t', a)\n",
    "\n",
    "\n",
    "\n",
    "prueba_scope()\n",
    "print('Fuera de la función:\\t', a)"
   ]
  },
  {
   "cell_type": "markdown",
   "metadata": {},
   "source": [
    "### Funciones lambda\n",
    "\n",
    "Lambdas son funciones de una linea. Se les conoce como funciones anónimas en otros lenguajes. Se utilizan cuando no deseas usar una función dos veces en un programa.\n"
   ]
  },
  {
   "cell_type": "code",
   "execution_count": 3,
   "metadata": {},
   "outputs": [
    {
     "name": "stdout",
     "output_type": "stream",
     "text": [
      "3\n"
     ]
    }
   ],
   "source": [
    "sumatoria = lambda a, b: a + b\n",
    "\n",
    "Output: 10\n",
    "print(sumatoria(1,2))"
   ]
  },
  {
   "cell_type": "markdown",
   "metadata": {},
   "source": [
    "## Listas por compresión"
   ]
  },
  {
   "cell_type": "markdown",
   "metadata": {},
   "source": [
    "Las listas por comprensión (list comprehension) son una manera abreviada y muy flexible para crear listas. Se utilizan mucho en python ya que reducen el numero de lineas en el código y facilitan su lectura.\n",
    "\n",
    "Para este ejemplo, crearemos una lista que incluya los días de la semana que terminan con la letra 's' a partir de una lista don todos los días de la semana. Primero haciendo un loo"
   ]
  },
  {
   "cell_type": "code",
   "execution_count": null,
   "metadata": {},
   "outputs": [],
   "source": []
  },
  {
   "cell_type": "markdown",
   "metadata": {},
   "source": [
    "***Forma \"tadicional\"***"
   ]
  },
  {
   "cell_type": "code",
   "execution_count": 71,
   "metadata": {},
   "outputs": [
    {
     "name": "stdout",
     "output_type": "stream",
     "text": [
      "['lunes', 'martes', 'miercoles', 'jueves', 'viernes']\n"
     ]
    }
   ],
   "source": [
    "semana = ['lunes', 'martes', 'miercoles', 'jueves', 'viernes', 'sabado', 'domingo']\n",
    "\n",
    "lista_1 = []\n",
    "\n",
    "for dia in semana:\n",
    "    if dia[-1] == 's':\n",
    "        lista_1.append(dia)\n",
    "\n",
    "print ( lista_1 )"
   ]
  },
  {
   "cell_type": "markdown",
   "metadata": {},
   "source": [
    "***Listas por comprensión***"
   ]
  },
  {
   "cell_type": "markdown",
   "metadata": {},
   "source": [
    "Podemos usar estructuras de control dentro de corchetes `[ ]` para generar listas de manera rápida."
   ]
  },
  {
   "cell_type": "code",
   "execution_count": 7,
   "metadata": {},
   "outputs": [
    {
     "name": "stdout",
     "output_type": "stream",
     "text": [
      "['lun', 'mar', 'mie', 'jue', 'vie', 'sab', 'dom']\n"
     ]
    }
   ],
   "source": [
    "semana = ['lunes', 'martes', 'miercoles', 'jueves', 'viernes', 'sabado', 'domingo']\n",
    "\n",
    "print ([dia[0:3] for dia in semana])"
   ]
  },
  {
   "cell_type": "markdown",
   "metadata": {},
   "source": [
    "Tambien podemos agregar conficiones para ser más especificos en el contenido de la lista resultante"
   ]
  },
  {
   "cell_type": "code",
   "execution_count": 18,
   "metadata": {},
   "outputs": [
    {
     "name": "stdout",
     "output_type": "stream",
     "text": [
      "El resultado de esto es: ['el-LUNES', 'el-MARTES', 'el-MIERCOLES', 'el-JUEVES', 'el-VIERNES']\n"
     ]
    }
   ],
   "source": [
    "semana = ['lunes', 'martes', 'miercoles', 'jueves', 'viernes', 'sabado', 'domingo']\n",
    "\n",
    "print ('El resultado de esto es: {}'.format(['el-{}'.format(dia.upper()) for dia in semana if dia[-1] == 's']))"
   ]
  },
  {
   "cell_type": "code",
   "execution_count": 34,
   "metadata": {},
   "outputs": [
    {
     "name": "stdout",
     "output_type": "stream",
     "text": [
      "01:02:03\n",
      "<class 'datetime.datetime'>\n",
      "<class 'datetime.time'>\n",
      "hora  : 1\n",
      "minuto: 2\n",
      "secundo: 3\n",
      "microsegundo: 0\n",
      "tzinfo: None\n",
      "ISO     : 2019-03-20 17:22:52.533362\n",
      "strftime: Wed Mar 20 17:22:52 2019\n"
     ]
    }
   ],
   "source": [
    "## Manipulación de días y fechas\n",
    "import datetime\n",
    "from datetime import timedelta\n",
    "\n",
    "\n",
    "formato = \"%a %b %d %H:%M:%S %Y\"\n",
    "\n",
    "t = datetime.time(1, 2, 3)\n",
    "today = datetime.datetime.today() + timedelta(hours=1)\n",
    "\n",
    "print (t)\n",
    "print(type(today))\n",
    "print(type(t))\n",
    "\n",
    "print ('hora  :', t.hour)\n",
    "\n",
    "print ('minuto:', t.minute)\n",
    "print ('secundo:', t.second)\n",
    "print ('microsegundo:', t.microsecond)\n",
    "print ('tzinfo:', t.tzinfo)\n",
    "\n",
    "today = datetime.datetime.today()\n",
    "print ('ISO     :', today)\n",
    "\n",
    "s = today.strftime(formato)\n",
    "print ('strftime:', s)\n"
   ]
  },
  {
   "cell_type": "code",
   "execution_count": 28,
   "metadata": {},
   "outputs": [
    {
     "name": "stdout",
     "output_type": "stream",
     "text": [
      "2019-03-20 23:18:55.492357\n",
      "2019-03-20 19:18:55.492357-04:00\n"
     ]
    }
   ],
   "source": [
    "import datetime\n",
    "from datetime import datetime\n",
    "import pytz    \n",
    "\n",
    "utc_time = datetime.utcnow()\n",
    "\n",
    "tz = pytz.timezone('America/New_York')\n",
    "\n",
    "utc_time = utc_time.replace(tzinfo=pytz.UTC) #replace method      \n",
    "\n",
    "new_york_time = utc_time.astimezone(tz)        #astimezone method\n",
    "\n",
    "print(new_york_time)\n"
   ]
  },
  {
   "cell_type": "markdown",
   "metadata": {},
   "source": [
    "## Importando Módulos"
   ]
  },
  {
   "cell_type": "code",
   "execution_count": null,
   "metadata": {},
   "outputs": [],
   "source": [
    "\n",
    "def greeting(name):\n",
    "  print(\"Hola, \" + name)\n",
    "\n",
    "import mi_modulo\n",
    "\n",
    "mi_modulo.saludar(\"Jaime\")"
   ]
  },
  {
   "cell_type": "markdown",
   "metadata": {},
   "source": [
    "## Manejo de errrores y exceciones"
   ]
  },
  {
   "cell_type": "code",
   "execution_count": 51,
   "metadata": {},
   "outputs": [
    {
     "name": "stdout",
     "output_type": "stream",
     "text": [
      "Hubo un problema: Yo lo rompí\n"
     ]
    }
   ],
   "source": [
    "class MiExcepcion(Exception):\n",
    "    pass\n",
    "\n",
    "try:\n",
    "    string = 'Todo esta bien'\n",
    "    raise MiExcepcion('Yo lo rompí')\n",
    "except MiExcepcion as e:\n",
    "    print('Hubo un problema: {}'.format(e))\n"
   ]
  },
  {
   "cell_type": "markdown",
   "metadata": {},
   "source": [
    "### Iteradores"
   ]
  },
  {
   "cell_type": "code",
   "execution_count": 44,
   "metadata": {},
   "outputs": [
    {
     "name": "stdout",
     "output_type": "stream",
     "text": [
      "manzana\n",
      "platano\n",
      "cereza\n"
     ]
    }
   ],
   "source": [
    "## Iteradores\n",
    "\n",
    "mi_tupla = (\"manzana\", \"platano\", \"cereza\")\n",
    "mi_iterador = iter(mi_tupla)\n",
    "\n",
    "print(next(mi_iterador))\n",
    "print(next(mi_iterador))\n",
    "print(next(mi_iterador))"
   ]
  },
  {
   "cell_type": "markdown",
   "metadata": {},
   "source": [
    "## Decoradores\n",
    "\n",
    "Los decoradores modifican el compartamiento de una función en python."
   ]
  },
  {
   "cell_type": "code",
   "execution_count": 17,
   "metadata": {},
   "outputs": [
    {
     "name": "stdout",
     "output_type": "stream",
     "text": [
      "Algo sucede antes de llamar la función.\n",
      "Hoooola!\n",
      "Algo sucede después de llamar la función.  \n",
      "\n",
      "Algo sucede antes de llamar la función.\n",
      "Adiossss!\n",
      "Algo sucede después de llamar la función.  \n",
      "\n"
     ]
    }
   ],
   "source": [
    "def mi_decorador(func):\n",
    "    def wrapper():\n",
    "        print(\"Algo sucede antes de llamar la función.\")\n",
    "        func()\n",
    "        print(\"Algo sucede después de llamar la función.  \\n\")\n",
    "    return wrapper\n",
    "\n",
    "@mi_decorador\n",
    "def di_hola():\n",
    "    print(\"Hoooola!\")\n",
    "\n",
    "def di_adios():\n",
    "    print(\"Adiossss!\")\n",
    "\n",
    "# Llamada sin @decorador\n",
    "di_adios = mi_decorador(di_adios)\n",
    "di_adios()    \n",
    "\n",
    "# Llamado con @decorador\n",
    "di_hola()\n",
    "\n",
    "\n",
    "\n"
   ]
  },
  {
   "cell_type": "markdown",
   "metadata": {},
   "source": [
    "## Generadores\n",
    "\n",
    "Un generador es una función que contiene uno o más *yield* . Cuando se manda a llamar regresa un iterador pero no comienza a ejecutarse inmediatamente.\n"
   ]
  },
  {
   "cell_type": "code",
   "execution_count": 9,
   "metadata": {},
   "outputs": [
    {
     "name": "stdout",
     "output_type": "stream",
     "text": [
      "This is printed first\n",
      "This is printed second\n",
      "This is printed at last\n",
      "This is printed first\n",
      "1\n",
      "This is printed second\n",
      "2\n",
      "This is printed at last\n",
      "3\n",
      "This is printed first\n",
      "1\n",
      "This is printed second\n",
      "2\n",
      "This is printed at last\n",
      "3\n"
     ]
    }
   ],
   "source": [
    "# A simple generator function\n",
    "def my_gen():\n",
    "    n = 1\n",
    "    print('This is printed first')\n",
    "    # Generator function contains yield statements\n",
    "    yield n\n",
    "\n",
    "    n += 1\n",
    "    print('This is printed second')\n",
    "    yield n\n",
    "\n",
    "    n += 1\n",
    "    print('This is printed at last')\n",
    "    yield n\n",
    "    \n",
    "    \n",
    "a = my_gen()\n",
    "\n",
    "next(a)\n",
    "next(a)\n",
    "next(a)\n",
    "\n",
    "\n",
    "for item in my_gen():\n",
    "    print(item) \n",
    "    \n",
    "for item in my_gen():\n",
    "    print(item) \n",
    "    \n"
   ]
  },
  {
   "cell_type": "markdown",
   "metadata": {},
   "source": [
    "## Uso de __name__ & __main__"
   ]
  },
  {
   "cell_type": "code",
   "execution_count": 42,
   "metadata": {},
   "outputs": [
    {
     "name": "stdout",
     "output_type": "stream",
     "text": [
      "File1 __name__ = __main__\n",
      "File1 is being run directly\n"
     ]
    }
   ],
   "source": [
    "# File1.py \n",
    "  \n",
    "print (\"File1 __name__ = %s\" %__name__)\n",
    "  \n",
    "if __name__ == \"__main__\": \n",
    "    print (\"File1 is being run directly\")\n",
    "else: \n",
    "    print (\"File1 is being imported\")\n"
   ]
  },
  {
   "cell_type": "markdown",
   "metadata": {},
   "source": [
    "## Clases\n",
    "\n",
    "Las clases son encapsulamientos de variables y funciones.\n",
    "\n"
   ]
  },
  {
   "cell_type": "code",
   "execution_count": 14,
   "metadata": {},
   "outputs": [
    {
     "name": "stdout",
     "output_type": "stream",
     "text": [
      "['Gustavo', 'Reyes']\n",
      "Hola, soy: Gustavo\n",
      "Hola amigos\n",
      "Gustavo Reyes\n"
     ]
    }
   ],
   "source": [
    "class Persona(object):\n",
    "    __slots__ = ['nombre', 'apellido']\n",
    "\n",
    "    def __init__(self, *args, **kwargs):\n",
    "        self.nombre = kwargs['nombre']\n",
    "        self.apellido = kwargs['apellido']\n",
    "    \n",
    "    def nombre_completo(self):\n",
    "        return '{} {}'.format(self.nombre, self.apellido)\n",
    "    \n",
    "    def decir_nombre(self):\n",
    "        return 'Hola, soy: {}'.format(self.nombre)\n",
    "    \n",
    "    @staticmethod\n",
    "    def saludar(saludo):\n",
    "        return 'Hola {}'.format(saludo)\n",
    "    \n",
    "    def __str__(self):\n",
    "        return self.nombre_completo()\n",
    "    \n",
    "    def as_dict(self):\n",
    "        {'nombre': self.nombre}\n",
    "\n",
    "    \n",
    "def dict_to_list(dictionary):\n",
    "    list = []\n",
    "    for key in dictionary.keys():\n",
    "        list.append(dictionary[key])\n",
    "    return list\n",
    "    \n",
    "    \n",
    "persona = {'nombre': 'Gustavo', 'apellido': 'Reyes'}    \n",
    "\n",
    "persona_list = dict_to_list(persona)\n",
    "\n",
    "print(persona_list)\n",
    "\n",
    "\n",
    "gustavo = Persona(**persona)\n",
    "\n",
    "print(gustavo.decir_nombre())\n",
    "\n",
    "print(Persona.saludar('amigos'))\n",
    "\n",
    "print(gustavo)\n",
    "\n",
    "        "
   ]
  },
  {
   "cell_type": "code",
   "execution_count": 15,
   "metadata": {},
   "outputs": [
    {
     "name": "stdout",
     "output_type": "stream",
     "text": [
      "Bob Ross pinta pinta oleo\n"
     ]
    }
   ],
   "source": [
    "class Artista(Persona):\n",
    "    def __init__(self, *args, **kwargs):\n",
    "        self.tipo_de_arte = kwargs['tipo_de_arte']\n",
    "        self.especialidad = kwargs['especialidad']\n",
    "        self.color_favorito = kwargs['color_favorito']\n",
    "        super().__init__(**kwargs)\n",
    "        \n",
    "    def __str__(self):\n",
    "        return '{} pinta {} {}'.format(self.nombre_completo(), self.tipo_de_arte, self.especialidad)\n",
    "        \n",
    "        \n",
    "artista = {'nombre': 'Bob', 'apellido': 'Ross', 'especialidad': 'oleo', 'color_favorito': 'morado', 'tipo_de_arte': 'pinta'}    \n",
    "\n",
    "bob_ross = Artista(**artista)\n",
    "\n",
    "print(bob_ross)\n"
   ]
  },
  {
   "cell_type": "markdown",
   "metadata": {},
   "source": [
    "## Testing"
   ]
  },
  {
   "cell_type": "code",
   "execution_count": 3,
   "metadata": {},
   "outputs": [],
   "source": [
    "import unittest\n",
    "\n",
    "class ProbarUsuario(unittest.TestCase):\n",
    "\n",
    "    def puede_escribir_blog_post(self):\n",
    "        # Visita el dashboard\n",
    "        ...\n",
    "        # Da click en \"nuevo post\"\n",
    "        ...\n",
    "        # Llena un nuevo formulario\n",
    "        ...\n",
    "        # Da click en enviar\n",
    "        ...\n",
    "        # Puede ver el nuevo post\n",
    "        ..."
   ]
  },
  {
   "cell_type": "markdown",
   "metadata": {},
   "source": [
    "### Lectura y Escritura de Archivos"
   ]
  },
  {
   "cell_type": "code",
   "execution_count": 32,
   "metadata": {},
   "outputs": [],
   "source": [
    "import csv\n",
    "\n",
    "# Origen: https://github.com/ibm-watson-data-lab/open-data/blob/master/movies/movies.tsv\n",
    "\n",
    "with open('data/movies.tsv') as tsvfile:\n",
    "  reader = csv.reader(tsvfile, delimiter='\\t')\n",
    "  for row in reader:\n",
    "        #print(row[1])\n",
    "        pass\n",
    "\n",
    "text = ['Scarface', 'Titanic', 'Narnia']\n",
    "\n",
    "with open('data/my_movies.tsv','w') as file:\n",
    "    for line in text:\n",
    "        file.write('{} \\n'.format(line))\n",
    "        \n",
    "\n"
   ]
  },
  {
   "cell_type": "markdown",
   "metadata": {},
   "source": [
    "### Serialización\n",
    "\n",
    "Python provee libreías JSON para codificar y decodificar JSON. Son muy útiles especialmente a la hora de trabajar REST.\n",
    "\n"
   ]
  },
  {
   "cell_type": "code",
   "execution_count": 125,
   "metadata": {},
   "outputs": [
    {
     "name": "stdout",
     "output_type": "stream",
     "text": [
      "[1, 2, 3, \"a\", \"b\", \"c\"]\n",
      "[1, 2, 3, 'a', 'b', 'c']\n"
     ]
    }
   ],
   "source": [
    "import json\n",
    "string_json = json.dumps([1, 2, 3, \"a\", \"b\", \"c\"])\n",
    "print(string_json)\n",
    "\n",
    "\n",
    "print(json.loads(string_json))\n"
   ]
  },
  {
   "cell_type": "markdown",
   "metadata": {},
   "source": [
    "### Obteniendo información de internet\n",
    "\n",
    "Una vez que hemos dominado la creación de aplicaciones utilizando Python, es posible que queremos acceder a información de otras fuentes. En Python existe una gran comunidad OpenSource, lo cual deriva en una igual de enorme cantidad de librerías que podemos utilizar.\n",
    "\n",
    "Una de estas librerías es Requests, que nos permite hacer peticiones HTTP de manera sencilla.\n"
   ]
  },
  {
   "cell_type": "code",
   "execution_count": 5,
   "metadata": {},
   "outputs": [
    {
     "name": "stdout",
     "output_type": "stream",
     "text": [
      "{'id': 417244, 'login': 'hashmap', 'display_login': 'hashmap', 'gravatar_id': '', 'url': 'https://api.github.com/users/hashmap', 'avatar_url': 'https://avatars.githubusercontent.com/u/417244?'}\n"
     ]
    }
   ],
   "source": [
    "import requests\n",
    "\n",
    "## Consulta de tipo GET\n",
    "\n",
    "r = requests.get('https://api.github.com/events')\n",
    "\n",
    "print(r.json()[0]['actor'])\n",
    "\n",
    "\n",
    "## Consulta de tipo POST\n",
    "\n",
    "r = requests.post('https://httpbin.org/post', data = {'key':'value'})\n",
    "\n"
   ]
  },
  {
   "cell_type": "markdown",
   "metadata": {},
   "source": [
    "### Estructura 'Set'\n",
    "\n",
    "Los ***set*** son estructuras muy útiles en python. Se comportan de manera muy similar a las listas, con la diferencia de que los elementos en este no se respiten\n"
   ]
  },
  {
   "cell_type": "code",
   "execution_count": 13,
   "metadata": {},
   "outputs": [
    {
     "name": "stdout",
     "output_type": "stream",
     "text": [
      "Dups: {'n', 'b'}\n",
      "\n",
      "{'n', 'b'}\n"
     ]
    }
   ],
   "source": [
    "lista_con_duplicados = ['a', 'b', 'c', 'b', 'd', 'm', 'n', 'n']\n",
    "duplicados = set([x for x in lista_con_duplicados if lista_con_duplicados.count(x) > 1])\n",
    "print('Dups: {}'.format(duplicados))\n",
    "# Output: set(['b', 'n'])\n",
    "\n",
    "type({'n', 'n', 'b'})\n",
    "\n",
    "print('')\n",
    "\n",
    "print({'n', 'n', 'b'})"
   ]
  },
  {
   "cell_type": "markdown",
   "metadata": {},
   "source": [
    "### Map, Filter and Reduce\n",
    "\n",
    "Existen 3 funciones que facilitan la programación funcional.\n",
    "\n",
    "\n",
    "\n"
   ]
  },
  {
   "cell_type": "markdown",
   "metadata": {},
   "source": [
    "#### Map\n",
    "\n",
    "Map es muy útil para aquellas veces que queremos realizar una operación sobre una lista.\n",
    "\n"
   ]
  },
  {
   "cell_type": "code",
   "execution_count": 6,
   "metadata": {},
   "outputs": [
    {
     "name": "stdout",
     "output_type": "stream",
     "text": [
      "[1, 4, 9, 16, 25]\n"
     ]
    }
   ],
   "source": [
    "items = [1, 2, 3, 4, 5]\n",
    "cuadrado = list(map(lambda x: x**2, items))\n",
    "\n",
    "print(cuadrado)"
   ]
  },
  {
   "cell_type": "markdown",
   "metadata": {},
   "source": [
    "\n",
    "#### Filter\n",
    "\n",
    "Filter crea una lista de elementos para los cuales una función regresa True.\n",
    "\n"
   ]
  },
  {
   "cell_type": "code",
   "execution_count": 7,
   "metadata": {},
   "outputs": [
    {
     "name": "stdout",
     "output_type": "stream",
     "text": [
      "[-5, -4, -3, -2, -1]\n"
     ]
    }
   ],
   "source": [
    "lista_de_numeros = range(-5, 5)\n",
    "menores_a_cero = list(filter(lambda x: x < 0, lista_de_numeros))\n",
    "print(menores_a_cero)\n",
    "\n",
    "# Salida: [-5, -4, -3, -2, -1]"
   ]
  },
  {
   "cell_type": "markdown",
   "metadata": {},
   "source": [
    "#### Reduce\n",
    "Reduce es muy útil cuando queremos obtener un resultado final a partir de una lista de elementos.\n",
    "\n",
    "\n",
    "```\n",
    "\n",
    "resultado = 1\n",
    "lista = [1, 2, 3, 4]\n",
    "for numero in lista:\n",
    "    resultado = resultado * numero\n",
    "\n",
    "# resultado = 24\n",
    "\n",
    "```\n"
   ]
  },
  {
   "cell_type": "code",
   "execution_count": 4,
   "metadata": {},
   "outputs": [
    {
     "name": "stdout",
     "output_type": "stream",
     "text": [
      "24\n"
     ]
    }
   ],
   "source": [
    "from functools import reduce\n",
    "\n",
    "factorial = reduce((lambda x, y: x * y), [1, 2, 3, 4])\n",
    "\n",
    "print(factorial)\n",
    "\n",
    "\n"
   ]
  },
  {
   "cell_type": "markdown",
   "metadata": {},
   "source": [
    "## Collecciones\n"
   ]
  },
  {
   "cell_type": "code",
   "execution_count": 19,
   "metadata": {},
   "outputs": [
    {
     "name": "stdout",
     "output_type": "stream",
     "text": [
      "KeyError: 'colores'\n",
      "defaultdict(<class 'list'>, {'Yasoob': ['Yellow'], 'Ali': ['Blue'], 'Arham': ['Green']})\n"
     ]
    }
   ],
   "source": [
    "from collections import defaultdict\n",
    "\n",
    "try:\n",
    "    diccionario_tradicional = {}\n",
    "    diccionario_tradicional['colores']['favorito'] = \"yellow\"\n",
    "except KeyError as e:\n",
    "    print('KeyError: {}'.format(e))\n",
    "    \n",
    "colores = (\n",
    "    ('Yasoob', 'Yellow'),\n",
    "    ('Ali', 'Blue'),\n",
    "    ('Arham', 'Green'),\n",
    "\n",
    ")\n",
    "\n",
    "colores_favoritos = defaultdict(list)\n",
    "\n",
    "for nombre, color in colores:\n",
    "    colores_favoritos[nombre].append(color)\n",
    "\n",
    "print(colores_favoritos)\n"
   ]
  },
  {
   "cell_type": "markdown",
   "metadata": {},
   "source": [
    "### OrderedDict\n",
    "\n",
    "Los diccionarios tradicionales no mantienen el orden en que ingresamos los elemenots, si queremos mantener el orden es necesario utilizar un OrderedDict.\n"
   ]
  },
  {
   "cell_type": "code",
   "execution_count": null,
   "metadata": {},
   "outputs": [],
   "source": [
    "from collections import OrderedDict\n",
    "\n",
    "colores = OrderedDict([(\"Red\", 198), (\"Green\", 170), (\"Blue\", 160)])\n",
    "for key, value in colores.items():\n",
    "    print(key, value)"
   ]
  },
  {
   "cell_type": "markdown",
   "metadata": {},
   "source": [
    "### Ambientes Virtuales\n",
    "\n",
    "Han escuchado antes de los 'ambientes virtuales' ? Utilizando ***virtualenv***  podemos encapsular nuestros ambientes de trabajo, permitiendonos así utilizar diferentes librerías e incluso versiones de Python en nuestros diferentes proyectos de Python, sin crear conflictos entre ellos.\n",
    "\n",
    "Los comandos más importantes son:\n",
    "\n",
    "```\n",
    "$ virtualenv miproyecto   # Crea un nuevo ambiente de nombre miproyecto\n",
    "$ source miproyecto/bin/activate   # Activa el ambiente \n",
    "$ deactivate # Lo desactiva\n",
    "\n",
    "```\n"
   ]
  },
  {
   "cell_type": "markdown",
   "metadata": {},
   "source": [
    "### Threading\n",
    "\n",
    "Es muy usado por ejemplo al momento de lanzar correos electrónicos desde una aplicación web. (No queremos dejar al usuario esperando una respuesta del servidor SMTP)\n",
    "\n"
   ]
  },
  {
   "cell_type": "code",
   "execution_count": 27,
   "metadata": {},
   "outputs": [
    {
     "name": "stdout",
     "output_type": "stream",
     "text": [
      "Worker: 0\n",
      "Worker: 4\n",
      "Worker: 1\n",
      "Worker: 2\n",
      "Worker: 3\n"
     ]
    }
   ],
   "source": [
    "import threading\n",
    "import time\n",
    "import random \n",
    "\n",
    "def worker(num):\n",
    "    \"\"\"thread worker function\"\"\"\n",
    "    time.sleep(random.random())\n",
    "    print ('Worker: %s' % num)\n",
    "    \n",
    "    return\n",
    "\n",
    "threads = []\n",
    "for i in range(5):\n",
    "    t = threading.Thread(target=worker, args=(i,))\n",
    "    threads.append(t)\n",
    "    t.start()"
   ]
  },
  {
   "cell_type": "markdown",
   "metadata": {},
   "source": [
    "## Python para data Science\n",
    "\n",
    "Paquetes recomendados:\n",
    "\n",
    "* Scipy\n",
    "* Matplotlib"
   ]
  },
  {
   "cell_type": "code",
   "execution_count": null,
   "metadata": {},
   "outputs": [],
   "source": []
  }
 ],
 "metadata": {
  "kernelspec": {
   "display_name": "Python 3",
   "language": "python",
   "name": "python3"
  },
  "language_info": {
   "codemirror_mode": {
    "name": "ipython",
    "version": 3
   },
   "file_extension": ".py",
   "mimetype": "text/x-python",
   "name": "python",
   "nbconvert_exporter": "python",
   "pygments_lexer": "ipython3",
   "version": "3.7.1"
  }
 },
 "nbformat": 4,
 "nbformat_minor": 2
}
